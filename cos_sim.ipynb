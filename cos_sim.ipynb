{
 "cells": [
  {
   "cell_type": "code",
   "execution_count": 1,
   "metadata": {},
   "outputs": [],
   "source": [
    "import nltk\n",
    "from sklearn.metrics.pairwise import cosine_similarity\n",
    "from sklearn.feature_extraction.text import TfidfVectorizer\n",
    "tfidf_vectorizer = TfidfVectorizer()"
   ]
  },
  {
   "cell_type": "code",
   "execution_count": 2,
   "metadata": {},
   "outputs": [],
   "source": [
    "data1='''In January 2014, Google (now under the parent umbrella corporation Alphabet) said it would purchase Nest for $3.2 billion, which validated the hopes and dreams of hundreds of startups that were also building connected products for the consumer home.\n",
    "\n",
    "After the deal was announced, the VC world went mad searching for investments, while larger companies searched for potential acquisition targets. At industry events that year, everyone I ran into with a connected product or a KickStarter was in talks to sell out or score more funds.'''"
   ]
  },
  {
   "cell_type": "code",
   "execution_count": 3,
   "metadata": {},
   "outputs": [],
   "source": [
    "data2='''Last week, the Kentucky company said it has built an integration with the Amazon Echo, allowing owners of the $180 voice-activated-speaker control their ceiling fans. The integration is part of the Echo’s connected home efforts, which means that these users can directly ask Alexa to turn on the fans.\n",
    "\n",
    "It also means other connected fans can use the same language. Amazon has these deeper integrations for lights, thermostats, and now fans.\n",
    "\n",
    "But those deeper integrations are only open to a few. For everyone else, there are Skills.'''"
   ]
  },
  {
   "cell_type": "code",
   "execution_count": 4,
   "metadata": {},
   "outputs": [],
   "source": [
    "data3='''A few weeks ago Amazon excited the tech press by announcing two new devices that are a cross between Apple’s Siri voice-controlled assistant and an Internet-connected speaker. Both will join the Amazon Echo in working with its Alexa Voice Service, the “brains” behind Amazon’s speech recognition.\n",
    "\n",
    "The Dot is a smaller version of the Echo, that plugs in and is always-listening, while the Tap is smaller, and battery powered. That makes it portable, but it also means that a user has to press the Tap to make it listen to voice commands.'''"
   ]
  },
  {
   "cell_type": "code",
   "execution_count": 5,
   "metadata": {},
   "outputs": [
    {
     "name": "stdout",
     "output_type": "stream",
     "text": [
      "[[1.         0.259033   0.23551461]]\n"
     ]
    }
   ],
   "source": [
    "dataset = [data1, data2, data3]\n",
    "matrix = tfidf_vectorizer.fit_transform(dataset)\n",
    "print(cosine_similarity(matrix[0:1], matrix))"
   ]
  },
  {
   "cell_type": "code",
   "execution_count": null,
   "metadata": {},
   "outputs": [],
   "source": []
  }
 ],
 "metadata": {
  "kernelspec": {
   "display_name": "Python 3",
   "language": "python",
   "name": "python3"
  },
  "language_info": {
   "codemirror_mode": {
    "name": "ipython",
    "version": 3
   },
   "file_extension": ".py",
   "mimetype": "text/x-python",
   "name": "python",
   "nbconvert_exporter": "python",
   "pygments_lexer": "ipython3",
   "version": "3.7.0"
  }
 },
 "nbformat": 4,
 "nbformat_minor": 2
}
